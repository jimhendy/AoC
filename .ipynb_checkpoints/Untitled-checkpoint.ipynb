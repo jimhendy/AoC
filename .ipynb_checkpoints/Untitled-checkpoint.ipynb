{
 "cells": [
  {
   "cell_type": "code",
   "execution_count": 1,
   "metadata": {
    "ExecuteTime": {
     "end_time": "2019-12-15T16:12:32.295685Z",
     "start_time": "2019-12-15T16:12:32.290501Z"
    }
   },
   "outputs": [],
   "source": [
    "%load_ext line_profiler"
   ]
  },
  {
   "cell_type": "code",
   "execution_count": 2,
   "metadata": {
    "ExecuteTime": {
     "end_time": "2019-12-15T16:12:32.300847Z",
     "start_time": "2019-12-15T16:12:32.298234Z"
    }
   },
   "outputs": [],
   "source": [
    "year = 2019\n",
    "day = 15"
   ]
  },
  {
   "cell_type": "code",
   "execution_count": 3,
   "metadata": {
    "ExecuteTime": {
     "end_time": "2019-12-15T16:12:32.305724Z",
     "start_time": "2019-12-15T16:12:32.302871Z"
    }
   },
   "outputs": [],
   "source": [
    "import sys\n",
    "sys.path.append(f'/home/jim/Projects/AoC/{year}/{day:02}/')"
   ]
  },
  {
   "cell_type": "code",
   "execution_count": 4,
   "metadata": {
    "ExecuteTime": {
     "end_time": "2019-12-15T16:12:32.936087Z",
     "start_time": "2019-12-15T16:12:32.307131Z"
    }
   },
   "outputs": [],
   "source": [
    "import a as prob"
   ]
  },
  {
   "cell_type": "code",
   "execution_count": 5,
   "metadata": {
    "ExecuteTime": {
     "end_time": "2019-12-15T16:12:32.939658Z",
     "start_time": "2019-12-15T16:12:32.937419Z"
    }
   },
   "outputs": [],
   "source": [
    "#f_name = '/home/jim/Projects/AoC/test.txt'\n",
    "f_name = f'/home/jim/.config/aocd/53616c7465645f5f7cf8ac317cbc0e9c0247b0cc568c0151b81f10b8bfa485f41f1f2d634322d2a0d168e15f1b2b82a0/{year}_{day:02}_input.txt'"
   ]
  },
  {
   "cell_type": "code",
   "execution_count": 6,
   "metadata": {
    "ExecuteTime": {
     "end_time": "2019-12-15T16:12:32.948067Z",
     "start_time": "2019-12-15T16:12:32.941021Z"
    }
   },
   "outputs": [],
   "source": [
    "with open(f_name) as f:\n",
    "    inputs = ''.join(f.readlines()).rstrip()                                                        \n",
    "    pass   "
   ]
  },
  {
   "cell_type": "code",
   "execution_count": 7,
   "metadata": {
    "ExecuteTime": {
     "end_time": "2019-12-15T16:13:26.226049Z",
     "start_time": "2019-12-15T16:12:32.949489Z"
    },
    "scrolled": false
   },
   "outputs": [
    {
     "name": "stdout",
     "output_type": "stream",
     "text": [
      "Tank found at :[-16.  14.]\n"
     ]
    }
   ],
   "source": [
    "%lprun -f prob.run prob.run(inputs)"
   ]
  },
  {
   "cell_type": "code",
   "execution_count": 8,
   "metadata": {
    "ExecuteTime": {
     "end_time": "2019-12-15T16:13:26.229598Z",
     "start_time": "2019-12-15T16:13:26.227602Z"
    }
   },
   "outputs": [],
   "source": [
    "layout = 1"
   ]
  }
 ],
 "metadata": {
  "kernelspec": {
   "display_name": "Python 3",
   "language": "python",
   "name": "python3"
  },
  "language_info": {
   "codemirror_mode": {
    "name": "ipython",
    "version": 3
   },
   "file_extension": ".py",
   "mimetype": "text/x-python",
   "name": "python",
   "nbconvert_exporter": "python",
   "pygments_lexer": "ipython3",
   "version": "3.6.9"
  }
 },
 "nbformat": 4,
 "nbformat_minor": 2
}
